{
 "cells": [
  {
   "cell_type": "markdown",
   "id": "b9e012de",
   "metadata": {},
   "source": [
    "# 4. Ragas Evaluation\n",
    "\n",
    "Ragas is a framework that helps you evaluate your Retrieval Augmented Generation (RAG) pipelines.  \n",
    "\n",
    "RAGAS evaluate the following metrics:\n",
    "\n",
    "**Answer Relevancy**\n",
    "- What It Measures: This metric assesses how pertinent your RAG model’s answer is to the given prompt. You’re looking for answers that hit the nail on the head, not ones that beat around the bush.\n",
    "- Scoring: It’s a game of precision, with scores ranging from 0 to 1. Higher scores mean your model’s answers are right on target.\n",
    "- Example:  \n",
    "    Question: What causes seasonal changes?  \n",
    "    Low relevance answer: The Earth’s climate varies throughout the year  \n",
    "    High relevance answer: Seasonal changes are caused by the tilt of the Earth’s axis and its orbit around the Sun.\n",
    "    \n",
    "**Faithfulness**\n",
    "- What It Measures: Here, you’re checking if the answers stick to the facts provided in the context. It’s all about staying true to the source.\n",
    "- Scoring: Also on a scale of 0 to 1. Higher values mean your answer is a faithful representation of the context.\n",
    "- Example:  \n",
    "    Question: What is the significance of the Apollo 11 mission?  \n",
    "    Context: Apollo 11 was the first manned mission to land on the Moon in 1969.  \n",
    "    High faithfulness answer: Apollo 11 is significant as it was the first mission to bring humans to the Moon.  \n",
    "    Low faithfulness answer: Apollo 11 was significant for its study of Mars.  \n",
    "    \n",
    "**Context Precision**\n",
    "- What It Measures: This one’s about whether your model ranks all the relevant bits of information at the top. You want the most important pieces front and center.\n",
    "- Scoring: Once again, it’s a 0 to 1 scale. Higher scores indicate your model is doing a great job at prioritizing the right context.\n",
    "- Example:  \n",
    "    Question: What are the health benefits of regular exercise?  \n",
    "    High precision: The model ranks contexts discussing cardiovascular health, mental well-being, and muscle   strength at the top.\n",
    "    Low precision: The model prioritizes contexts unrelated to health, such as the history of sports.  \n",
    "    \n",
    "**Answer Correctness**\n",
    "- What It Measures: This is about straight-up accuracy – how well does the answer align with the ground truth?\n",
    "- Scoring: Judged on a 0 to 1 scale, where higher scores signal a bullseye match with the ground truth.\n",
    "- Example:  \n",
    "    Ground Truth: Photosynthesis in plants primarily occurs in the chloroplasts.  \n",
    "    High answer correctness: Photosynthesis takes place in the chloroplasts of plant cells.  \n",
    "    Low answer correctness: Photosynthesis occurs in the mitochondria of plants.  \n",
    "    \n",
    "Each metric provides a different lens to view your model’s performance, from how relevant and faithful its answers are, to how precise it is with contexts and how correct its answers align with known truths."
   ]
  },
  {
   "cell_type": "code",
   "execution_count": 1,
   "id": "bc9ed2ea",
   "metadata": {},
   "outputs": [
    {
     "name": "stderr",
     "output_type": "stream",
     "text": [
      "/home/juan/anaconda3/envs/siac/lib/python3.11/site-packages/tqdm/auto.py:21: TqdmWarning: IProgress not found. Please update jupyter and ipywidgets. See https://ipywidgets.readthedocs.io/en/stable/user_install.html\n",
      "  from .autonotebook import tqdm as notebook_tqdm\n"
     ]
    }
   ],
   "source": [
    "import os\n",
    "import numpy as np\n",
    "import matplotlib.pyplot as plt\n",
    "from langchain.text_splitter import RecursiveCharacterTextSplitter\n",
    "from langchain_openai import OpenAIEmbeddings\n",
    "from langchain.vectorstores import Chroma\n",
    "from langchain_openai import ChatOpenAI\n",
    "from langchain.chains import RetrievalQA\n",
    "from langchain.prompts import PromptTemplate\n",
    "from langchain_anthropic import ChatAnthropic\n",
    "from langchain_mistralai.chat_models import ChatMistralAI\n",
    "from langchain.document_loaders import PyPDFLoader\n",
    "from datasets import Dataset\n",
    "import pandas as pd\n",
    "from tqdm import tqdm\n",
    "import json\n",
    "import ragas\n",
    "from ragas.metrics import (\n",
    "    answer_relevancy, \n",
    "    faithfulness,\n",
    "    context_recall,\n",
    "    context_precision,\n",
    "    context_relevancy,\n",
    "    answer_correctness,\n",
    "    answer_similarity\n",
    ")"
   ]
  },
  {
   "cell_type": "markdown",
   "id": "c947d552",
   "metadata": {},
   "source": [
    "## Set API, embedding and vector database path"
   ]
  },
  {
   "cell_type": "code",
   "execution_count": 16,
   "id": "ee5cfd83",
   "metadata": {},
   "outputs": [
    {
     "name": "stdout",
     "output_type": "stream",
     "text": [
      "Model selected for evaluation: llama-7b-chat\n",
      "Evaluation mode: manual\n",
      "Model selected as RAGAs intelligence: gpt-4o\n"
     ]
    }
   ],
   "source": [
    "# List of models tested:\n",
    "# gpt-3.5-turbo\n",
    "# gpt-4-turbo\n",
    "# gpt-4o\n",
    "# claude-3-haiku-20240307\n",
    "# claude-3-sonnet-20240229\n",
    "# claude-3-opus-20240229\n",
    "# open-mistral-7b\n",
    "# open-mixtral-8x7b\n",
    "# open-mixtral-8x22b\n",
    "# llama-7b-chat\n",
    "# llama-13b-chat\n",
    "# llama-70b-chat\n",
    "# llama3-8b\n",
    "# llama3-70b\n",
    "# gemma-7b\n",
    "# gemma-2b\n",
    "\n",
    "# Model to evaluate\n",
    "llm_name = \"llama-7b-chat\"\n",
    "\n",
    "# Evaluation data mode\n",
    "mode = \"manual\" # or \"synthetic\"\n",
    "\n",
    "embedding_dimensions = 3072 #1536  # 3072\n",
    "\n",
    "# outputdir\n",
    "output_dirname = f\"/datasets2/Dropbox/Projects/SACI/paper1/results_{mode}_eval\"\n",
    "\n",
    "# API key \n",
    "if \"gpt\" in llm_name:\n",
    "    client = os.environ['OPENAI_API_KEY']\n",
    "elif \"claude\" in llm_name:\n",
    "    client = os.environ['ANTHROPIC_API_KEY']\n",
    "elif \"mistral\" in llm_name or \"mixtral\" in llm_name:\n",
    "    client = os.environ['MISTRAL_API_KEY']\n",
    "elif \"llama\" in llm_name or \"gemma\" in llm_name:\n",
    "    client = os.environ['LLAMA_API_KEY']\n",
    "else:\n",
    "    print(\"INVALID MODEL!\")\n",
    "    \n",
    "print(f\"Model selected for evaluation: {llm_name}\")\n",
    "print(f\"Evaluation mode: {mode}\")\n",
    "\n",
    "# OpenAI embedding model\n",
    "embedding_model = OpenAIEmbeddings(model=\"text-embedding-3-large\", dimensions=embedding_dimensions)\n",
    "\n",
    "# Model for RAGAs\n",
    "llm_name_for_ragas = \"gpt-4o\"\n",
    "if \"gpt\" in llm_name_for_ragas:\n",
    "    llm_for_ragas = ChatOpenAI(model_name=llm_name_for_ragas, temperature=0) \n",
    "elif \"claude\" in llm_name_for_ragas:    \n",
    "    llm_for_ragas = ChatAnthropic(model_name=llm_name_for_ragas, api_key=client, temperature=0)\n",
    "    \n",
    "print(f\"Model selected as RAGAs intelligence: {llm_name_for_ragas}\")"
   ]
  },
  {
   "cell_type": "code",
   "execution_count": 4,
   "id": "ee9c77eb",
   "metadata": {},
   "outputs": [
    {
     "name": "stdout",
     "output_type": "stream",
     "text": [
      "Load 243 collections from vector database\n"
     ]
    }
   ],
   "source": [
    "# Vector dataset\n",
    "vectordb_directory = f'vector_database_chspark_{embedding_dimensions}'\n",
    "\n",
    "# Create chroma db from existing vectordb_directory\n",
    "vectordb = Chroma(\n",
    "    embedding_function=embedding_model,\n",
    "    persist_directory=vectordb_directory\n",
    ")\n",
    "\n",
    "print(f\"Load {vectordb._collection.count()} collections from vector database\")\n"
   ]
  },
  {
   "cell_type": "code",
   "execution_count": 11,
   "id": "32e22692",
   "metadata": {},
   "outputs": [
    {
     "name": "stdout",
     "output_type": "stream",
     "text": [
      "Using Model: llama-7b-chat\n"
     ]
    }
   ],
   "source": [
    "template = \"\"\"\\\n",
    "You are an assistant and you have to answer the questions that are asked of you. \n",
    "If the question is about the vehicle, use the provided car manual information to answer the question at the end. \n",
    "If you don’t know the answer even with the car manual provided say \"I am sorry, I did not find the answer in the car manual\"\n",
    "Don’t try to make up an answer.\n",
    "Respond in the most attentive way possible. Use a maximum of three sentences. \n",
    "Keep the answer as concise as possible. \n",
    "Context: {context}\n",
    "Question: {question}\n",
    "Helpful Answer:\n",
    "\"\"\"\n",
    "\n",
    "# create prompt template object\n",
    "qa_chain_prompt = PromptTemplate.from_template(template)\n",
    "\n",
    "if \"gpt\" in llm_name:\n",
    "    llm = ChatOpenAI(model_name=llm_name, temperature=0) \n",
    "elif \"claude\" in llm_name:    \n",
    "    llm = ChatAnthropic(model_name=llm_name, api_key=client, temperature=0)\n",
    "elif \"mistral\" in llm_name or \"mixtral\" in llm_name:\n",
    "    llm = ChatMistralAI(model=llm_name, api_key=client, temperature=0)\n",
    "elif \"llama\" in llm_name or \"gemma\" in llm_name:\n",
    "    llm = ChatOpenAI(model_name=llm_name, api_key=client, temperature=0,\n",
    "                     base_url=\"https://api.llama-api.com\") \n",
    "\n",
    "print(f\"Using Model: {llm.model_name}\")\n",
    "\n",
    "# QA RAG object\n",
    "qa_chain = RetrievalQA.from_chain_type(\n",
    "    llm,\n",
    "    retriever=vectordb.as_retriever(),\n",
    "    return_source_documents=True,\n",
    "    chain_type_kwargs={\"prompt\": qa_chain_prompt}\n",
    ")"
   ]
  },
  {
   "cell_type": "markdown",
   "id": "d18081db",
   "metadata": {},
   "source": [
    "## Load the evaluation dataset"
   ]
  },
  {
   "cell_type": "code",
   "execution_count": 12,
   "id": "11c04824",
   "metadata": {},
   "outputs": [
    {
     "name": "stderr",
     "output_type": "stream",
     "text": [
      "Generating train split: 20 examples [00:00, 710.74 examples/s]\n"
     ]
    },
    {
     "data": {
      "text/plain": [
       "Dataset({\n",
       "    features: ['question', 'context', 'ground_truth'],\n",
       "    num_rows: 20\n",
       "})"
      ]
     },
     "execution_count": 12,
     "metadata": {},
     "output_type": "execute_result"
    }
   ],
   "source": [
    "eval_dataset = Dataset.from_csv(f\"{mode}_eval_dataset_spark.csv\")\n",
    "eval_dataset"
   ]
  },
  {
   "cell_type": "markdown",
   "id": "f1672412",
   "metadata": {},
   "source": [
    "## Create responses dataset for evaluation"
   ]
  },
  {
   "cell_type": "code",
   "execution_count": 20,
   "id": "e2453717",
   "metadata": {},
   "outputs": [],
   "source": [
    "def create_responses_dataset(rag_pipeline, eval_dataset):\n",
    "    \"\"\"\n",
    "    Creates a RAG (Retrieval-Augmented Generation) dataset for evaluation.\n",
    "\n",
    "    This function processes an evaluation dataset using a RAG pipeline, generating answers to questions\n",
    "    and collecting the corresponding context documents. The resulting data is formatted into a DataFrame\n",
    "    and then converted to a Hugging Face Dataset for further evaluation.\n",
    "\n",
    "    Args:\n",
    "        rag_pipeline (callable): A function or model pipeline that takes a query dictionary with a \"query\" key \n",
    "                                 and returns a dictionary with \"result\" (the generated answer) and \"source_documents\" \n",
    "                                 (the context documents used for generation).\n",
    "        eval_dataset (list of dict): A list of dictionaries, where each dictionary represents a row with at least \n",
    "                                     the keys \"question\" and \"ground_truth\".\n",
    "\n",
    "    Returns:\n",
    "        Dataset: A Hugging Face Dataset containing the processed data, with columns for questions, answers, \n",
    "                 contexts, and ground truths.\n",
    "\n",
    "    Example:\n",
    "        rag_pipeline = lambda x: {\"result\": \"This is an answer\", \"source_documents\": [{\"page_content\": \"Some context\"}]}\n",
    "        eval_dataset = [{\"question\": \"What is the capital of France?\", \"ground_truth\": \"Paris\"}]\n",
    "        rag_eval_dataset = create_ragas_dataset(rag_pipeline, eval_dataset)\n",
    "    \"\"\"\n",
    "    rag_dataset = []\n",
    "    for row in tqdm(eval_dataset):\n",
    "        answer = rag_pipeline.invoke({\"query\" : row[\"question\"]})\n",
    "        rag_dataset.append({\n",
    "            \"question\" : row[\"question\"],\n",
    "            \"answer\" : answer[\"result\"],\n",
    "            \"contexts\" : [context.page_content for context in answer[\"source_documents\"]],\n",
    "            \"ground_truth\" : row[\"ground_truth\"]\n",
    "        })\n",
    "    rag_df = pd.DataFrame(rag_dataset)\n",
    "    rag_eval_dataset = Dataset.from_pandas(rag_df)\n",
    "    return rag_eval_dataset\n",
    "\n",
    "\n",
    "def evaluate_responses_dataset(responses_dataset, embedding_model, llm):\n",
    "    \"\"\"\n",
    "    Evaluates a RAG (Retrieval-Augmented Generation) dataset using specified metrics.\n",
    "\n",
    "    This function takes a RAG dataset and evaluates it using a set of predefined metrics,\n",
    "    returning the evaluation results. The evaluation involves assessing various aspects such\n",
    "    as context precision, faithfulness, answer relevancy, context recall, context relevancy,\n",
    "    answer correctness, and answer similarity.\n",
    "\n",
    "    Args:\n",
    "        ragas_dataset (Dataset): A Hugging Face Dataset containing the processed RAG data, \n",
    "                                 with columns for questions, answers, contexts, and ground truths.\n",
    "        llm (langchain model): A langchain model used for internal RAGAs processing\n",
    "\n",
    "    Returns:\n",
    "        dict: A dictionary containing the evaluation results for each metric.\n",
    "\n",
    "    Example:\n",
    "        ragas_dataset = create_ragas_dataset(rag_pipeline, eval_dataset)\n",
    "        evaluation_results = evaluate_ragas_dataset(ragas_dataset)\n",
    "    \"\"\"\n",
    "    result = ragas.evaluate(\n",
    "        dataset=responses_dataset,\n",
    "        llm=llm,\n",
    "        embeddings=embedding_model,\n",
    "        metrics=[\n",
    "            context_precision,\n",
    "            faithfulness,\n",
    "            answer_relevancy,\n",
    "            context_recall,\n",
    "            context_relevancy,\n",
    "            answer_correctness,\n",
    "            answer_similarity\n",
    "        ],\n",
    "    )\n",
    "    return result"
   ]
  },
  {
   "cell_type": "markdown",
   "id": "847ad024",
   "metadata": {},
   "source": [
    "## Get responses dataset\n",
    "**Beware!!**   \n",
    "This is an expensive operation because it uses the llm for responding all the questions in the dataset."
   ]
  },
  {
   "cell_type": "code",
   "execution_count": 14,
   "id": "3b5e2805",
   "metadata": {},
   "outputs": [
    {
     "name": "stderr",
     "output_type": "stream",
     "text": [
      "  0%|                                                                                                  | 0/20 [00:00<?, ?it/s]/home/juan/anaconda3/envs/siac/lib/python3.11/site-packages/langchain_core/_api/deprecation.py:139: LangChainDeprecationWarning: The method `Chain.__call__` was deprecated in langchain 0.1.0 and will be removed in 0.3.0. Use invoke instead.\n",
      "  warn_deprecated(\n",
      "100%|█████████████████████████████████████████████████████████████████████████████████████████| 20/20 [05:06<00:00, 15.31s/it]\n"
     ]
    }
   ],
   "source": [
    "# Run the eval dataset through the RAG QA and compile the answers\n",
    "# Return a Hugging Face dataset containing the questions, the answers, the contexts and the groundtruths\n",
    "basic_qa_responses = create_responses_dataset(qa_chain, eval_dataset)"
   ]
  },
  {
   "cell_type": "markdown",
   "id": "56ddcab5",
   "metadata": {},
   "source": [
    "## Save the results dataset to a csv file"
   ]
  },
  {
   "cell_type": "code",
   "execution_count": 17,
   "id": "9b12ec63",
   "metadata": {},
   "outputs": [
    {
     "name": "stderr",
     "output_type": "stream",
     "text": [
      "Creating CSV from Arrow format: 100%|██████████████████████████████████████████████████████████| 1/1 [00:00<00:00, 108.48ba/s]\n"
     ]
    },
    {
     "data": {
      "text/plain": [
       "110783"
      ]
     },
     "execution_count": 17,
     "metadata": {},
     "output_type": "execute_result"
    }
   ],
   "source": [
    "output_dir = f\"{output_dirname}/{llm_name}\"\n",
    "os.makedirs(output_dir, exist_ok=True)\n",
    "\n",
    "basic_qa_responses.to_csv(os.path.join(output_dir, \"basic_qa_ragas_dataset_spark.csv\"))"
   ]
  },
  {
   "cell_type": "code",
   "execution_count": 18,
   "id": "af2933f9",
   "metadata": {},
   "outputs": [
    {
     "data": {
      "text/plain": [
       "{'question': 'How many safety belts does this car has?',\n",
       " 'answer': 'According to the provided car manual, the car is equipped with three-point safety belts in the front seats and three-point safety belts in the outboard rear seating positions, as well as a center seat equipped with a lap safety belt.',\n",
       " 'contexts': ['2–6  SEATS AND OCCUPANT PROTECTION SYSTEMS\\nAlways fasten your safety belts correctly:\\n1. Close and lock the doors.2. Make sure seatback is upright.\\n3. Pick up the safety belt latch plate and\\nuse it to pull the belt across your body.\\nMake sure the belt is not twisted. If thesafety belt locks as you are pulling it\\nout, allow it to rewind into the retrac-\\ntor. Pull the safety belt out again to acomfortable and secure length.\\n4. Position the shoulder belt midway over\\nthe shoulder and across the chest.\\nNever place the shoulder belt acrossthe neck. This assures that in the caseFRONT SEAT OCCUPANTS\\nEach front seat is equipped with adjust-able seat and seatback with height-adjust-able head restraint and three point lap-\\nand-shoulder safety belts.\\nREAR SEAT OCCUPANTS\\nThe rear seat is equipped with two out-board seating positions featuring three-\\npoint lap-and-shoulder safety belts and acenter seat equipped with a lap safety belt.\\nTHREE-POINT SAFETY BELTS\\nTo help reduce the risk of personal injuryin collisions or sudden manoeuvres, yourCHEVROLET vehicle is equipped with\\nthree-point safety belts. The two front\\nseats and the two outboard rear seatingpositions are each equipped with three-\\npoint safety belts. These safety belts are\\neach anchored in three locations to re-strain passengers who are properly posi-\\ntioned and wearing the safety belt.\\nS3W1061AS3W1138AA three-point safety belt set in the ELR /\\nWLR (Emergency Locking Retractor /Webbing Locking Retractor) mode re-\\nquires no length adjustment and allows\\nthe freedom of body movement when thevehicle moves at a constant speed.\\nHowever, in the event of a sudden or\\nstrong stop, or during heavy acceleration\\nor deceleration, the safety belt will lock au-tomatically to restrain the body.',\n",
       "  '2–4  SEATS AND OCCUPANT PROTECTION SYSTEMS\\n WARNING\\nSAFETY BELTS PROTECT\\nAccident statistics show that drivers\\nand passengers properly wearing\\nsafety belts have a lower risk of beinginjured and a higher chance of surviv-\\ning an accident. For this reason, wear-\\ning a safety belt is legally required inmost countries.\\nWEARING THE SAFETY BELTEach front seat and each outboard rear\\nseat of your CHEVROLET vehicle is\\nequipped with a three-point safety beltsystem that is anchored at three loca-\\ntions. All front and rear seat belts are\\nstored and locked by a retractormechanism. When set in its normal\\nemergency locking mode, the three-\\npoint safety belt requires no length ad-justment and allows freedom of move-\\nment when the vehicle moves at con-\\nstant speeds.\\n(Continued) WARNING\\nHowever in a sudden or strong stop, or\\nduring heavy acceleration or decelera-tion, the safety belt will lock automati-\\ncally to restrain the body.\\nIn order to gain the full benefit of a\\nsafety belt, you must wear it correctlyand position yourself correctly within\\nyour seat, as follows:\\n• Seatback upright (not reclined, to\\nprevent you from “submarining” or\\nslipping out from under the safetybelt, and injuring vulnerable body\\nparts in a crash.)\\n• Occupant sitting upright (not\\nslouched, to properly position the lap\\nand shoulder portions of the safetybelt for maximum restraint and\\nminimum injury to soft and vulner-\\nable parts of your body in a crash)\\n• Safety belt latch plate and buckle\\nsecurely fastened with a “click” (ifthe safety belt is not securely\\nlatched, it cannot provide any protec-\\ntion; pull on the belt to make sureit is secure)(Continued) WARNING\\n• Lap portion of safety belt snug and\\nlow on hips and bony pelvis (not ab-\\ndomen where the restraining beltcould cause serious injury in a\\ncrash – THIS IS PARTICULARLY\\nIMPORTANT FOR PREGNANTWOMEN)\\n• Shoulder portion of the safety belts\\nover your outside shoulder and snug\\nagainst the chest (not under an arm,around your neck, over an inside',\n",
       "  '2–2  SEATS AND OCCUPANT PROTECTION SYSTEMS\\n WARNING\\n• Safety belts have been shown to be\\nthe single most effective protection\\nagainst injury or death in a vehicu-\\nlar accident!\\n• As the owner and driver of your ve-\\nhicle, you must make certain that\\neach occupant is properly wearing\\nthe safety belt provided at the seat-\\ning position.\\n• Pregnant women, injured, and\\nphysically impaired persons should\\nalso wear safety belts. Like all other\\noccupants, they are more likely to\\nsuffer serious injury or death, if\\nthey do not do so.\\n• The best way to protect the foetus is\\nto protect the mother.\\n• Why safety belts work, how to wear\\nthem, and how to adjust your seat\\nposition properly, is explained in\\nthis section. Read all of the infor-\\nmation provided and always observe\\nthese instructions and warnings in\\norder to gain the full benefit of these\\nsafety systems.ALWAYS WEAR YOUR SAFETY\\nBELTS!\\nOccupant protection has been the focus\\nof much private and public research and\\ndevelopment for many years. The seatbelts are incorporated into the vehicle\\nsolely for the protection of the occupants.\\nThe safety belts can protect you and yourpassengers only if they are used.\\nThe safety belt information included here\\nis intended for vehicle occupants of adult\\nsize and for older children who have out-grown booster seats.\\nBe sure that if children are too small to be\\nwell restrained by the safety belt system,\\nthat they are secured in an appropriatechild restraint.WHY WEAR SAFETY BELTS?\\nSafety belts are helpful for several distinct\\nreasons:\\n1) Safety belts attach the occupants to\\nthe vehicle so that they will not beejected during an accident.\\n2) Safety belts attach the occupant to the\\nvehicle so that they can use the space\\nbetween their pre-crash seating posi-tion and the front of the vehicle to slow\\ndown to a stop more gradually, as their\\nsafety belts stretch and the front endof the vehicle absorbs the energy of the\\ncrash by crumpling.\\n3) Safety belts keep the driver in his seat,',\n",
       "  '2–8  SEATS AND OCCUPANT PROTECTION SYSTEMS\\n WARNING\\n• After a collision, inspect all safety\\nbelts and related parts for fraying\\nor other damage. Ask your\\nCHEVROLET retailer to replaceany damaged parts.\\n• It is dangerous to operate your ve-\\nhicle with damaged safety belts or\\nother parts.\\nFailure to make appropriate repairs\\nmay result in additional damage to\\nyour vehicle or personal injuries.CENTER REAR LAP BELT\\nTo fasten the center rear lap belt:\\n1. Hold the metal latch plate 90-degrees to\\nthe belt and pull belt low across hips.\\n2. Insert the latch plate into the buckle.3. Pull free end of belt away from latch\\nplate to tighten belt.\\n4. Pull on belt clip to take up slack.To remove the lap belt, press the release\\nbutton on the buckle.\\nBelt clip\\nPULL\\nPULL\\nPULL to\\nlengthen\\nS3W1064AINSERT to fasten\\n   PRESS to unfasten\\nS3W1063A'],\n",
       " 'ground_truth': 'Your vehicle is equipped with three-point safety belts. The two front seats and the two outboard rear seating positions are each equipped with three-point safety belts. These safety belts are each anchored in three locations to restrain passengers who are properly positioned and wearing the safety belt.'}"
      ]
     },
     "execution_count": 18,
     "metadata": {},
     "output_type": "execute_result"
    }
   ],
   "source": [
    "basic_qa_responses[0]"
   ]
  },
  {
   "cell_type": "markdown",
   "id": "a7b9d5d8",
   "metadata": {},
   "source": [
    "## Evaluate responses with Ragas\n",
    "**Beware!!**   \n",
    "This is an expensive operation because it uses the llm_for_ragas for comparing the responses with the groundtruth"
   ]
  },
  {
   "cell_type": "code",
   "execution_count": 19,
   "id": "44a4e51e",
   "metadata": {},
   "outputs": [
    {
     "name": "stderr",
     "output_type": "stream",
     "text": [
      "Evaluating: 100%|███████████████████████████████████████████████████████████████████████████| 140/140 [01:08<00:00,  2.05it/s]\n"
     ]
    }
   ],
   "source": [
    "basic_qa_result = evaluate_responses_dataset(basic_qa_responses, embedding_model, llm_for_ragas)"
   ]
  },
  {
   "cell_type": "code",
   "execution_count": 21,
   "id": "1ebd8033",
   "metadata": {},
   "outputs": [
    {
     "data": {
      "text/plain": [
       "{'context_precision': 0.8083, 'faithfulness': 0.9250, 'answer_relevancy': 0.7686, 'context_recall': 0.8305, 'context_relevancy': 0.0500, 'answer_correctness': 0.4917, 'answer_similarity': 0.7356}"
      ]
     },
     "execution_count": 21,
     "metadata": {},
     "output_type": "execute_result"
    }
   ],
   "source": [
    "basic_qa_result"
   ]
  },
  {
   "cell_type": "code",
   "execution_count": 27,
   "id": "9a2dcefd",
   "metadata": {},
   "outputs": [
    {
     "name": "stdout",
     "output_type": "stream",
     "text": [
      "{'Context Precision': 0.808333333280625, 'Faithfulness': 0.925, 'Answer Relevancy': 0.7686496202549865, 'Context Recall': 0.8304738562091505, 'Context Relevancy': 0.04998298265645037, 'Answer Correctness': 0.4916794624489406, 'Answer Similarity': 0.7355675899980934, 'Model': 'llama-7b-chat', 'Method': 'Basic'}\n"
     ]
    }
   ],
   "source": [
    "basic_qa_result2 = basic_qa_result.copy()\n",
    "basic_qa_result2['model'] = llm_name\n",
    "basic_qa_result2['method'] = \"Basic\"\n",
    "\n",
    "# rename the keys\n",
    "key_mapping = {\n",
    "    'context_precision': 'Context Precision',\n",
    "    'faithfulness': 'Faithfulness',\n",
    "    'answer_relevancy': 'Answer Relevancy',\n",
    "    'context_recall': 'Context Recall',\n",
    "    'context_relevancy': 'Context Relevancy',\n",
    "    'answer_correctness': 'Answer Correctness',\n",
    "    'answer_similarity': 'Answer Similarity',\n",
    "    'model': 'Model',\n",
    "    'method': 'Method'\n",
    "}\n",
    "\n",
    "# Creating a new dictionary with updated keys\n",
    "basic_qa_result3 = {key_mapping[key]: value for key, value in basic_qa_result2.items()}\n",
    "\n",
    "print(basic_qa_result3)"
   ]
  },
  {
   "cell_type": "markdown",
   "id": "c2443860",
   "metadata": {},
   "source": [
    "## Save the metrics to a file"
   ]
  },
  {
   "cell_type": "code",
   "execution_count": 28,
   "id": "d3ef8b60",
   "metadata": {},
   "outputs": [],
   "source": [
    "def append_dict_to_file(file_path, new_dict):\n",
    "    # Check if the file exists\n",
    "    if os.path.exists(file_path):\n",
    "        # Read the existing list from the file\n",
    "        with open(file_path, 'r') as file:\n",
    "            data = json.load(file)\n",
    "    else:\n",
    "        # If the file does not exist, start with an empty list\n",
    "        data = []\n",
    "\n",
    "    # Append the new dictionary to the list\n",
    "    data.append(new_dict)\n",
    "\n",
    "    # Write the updated list back to the file\n",
    "    with open(file_path, 'w') as file:\n",
    "        json.dump(data, file, indent=4)"
   ]
  },
  {
   "cell_type": "code",
   "execution_count": 33,
   "id": "d585ea38",
   "metadata": {},
   "outputs": [],
   "source": [
    "output_dir = f\"{output_dirname}\"\n",
    "os.makedirs(output_dir, exist_ok=True)\n",
    "\n",
    "append_dict_to_file(os.path.join(output_dir, f\"results_{mode}.json\"), basic_qa_result3)"
   ]
  },
  {
   "cell_type": "code",
   "execution_count": 34,
   "id": "4c3df727",
   "metadata": {},
   "outputs": [],
   "source": [
    "def plot_metrics_with_values(metrics_dict, title='RAG Metrics'):\n",
    "    \"\"\"\n",
    "    Plots a bar chart for metrics contained in a dictionary and annotates the values on the bars.\n",
    "\n",
    "    Args:\n",
    "    metrics_dict (dict): A dictionary with metric names as keys and values as metric scores.\n",
    "    title (str): The title of the plot.\n",
    "    \"\"\"\n",
    "    names = list(metrics_dict.keys())\n",
    "    values = list(metrics_dict.values())\n",
    "\n",
    "    plt.figure(figsize=(10, 6))\n",
    "    plt.grid(zorder=0)\n",
    "    bars = plt.barh(names, values, color='blue', zorder=3)\n",
    "\n",
    "    # Adding the values on top of the bars\n",
    "    for bar in bars:\n",
    "        width = bar.get_width()\n",
    "        plt.text(width + 0.01,  # x-position\n",
    "                 bar.get_y() + bar.get_height() / 2,  # y-position\n",
    "                 f'{width:.4f}',  # value\n",
    "                 va='center',\n",
    "                 zorder=4)\n",
    "\n",
    "    plt.xlabel('Score')\n",
    "    plt.title(title)\n",
    "    plt.xlim(0, 1)  # Setting the x-axis limit to be from 0 to 1\n",
    "    plt.show()"
   ]
  },
  {
   "cell_type": "code",
   "execution_count": 36,
   "id": "4f6b4664",
   "metadata": {},
   "outputs": [
    {
     "data": {
      "image/png": "[encoded data removed]",
      "text/plain": [
       "<Figure size 1000x600 with 1 Axes>"
      ]
     },
     "metadata": {},
     "output_type": "display_data"
    }
   ],
   "source": [
    "plot_metrics_with_values(basic_qa_result, \"Base Retriever Ragas Metrics\")"
   ]
  },
  {
   "cell_type": "markdown",
   "id": "1132804d",
   "metadata": {},
   "source": [
    "# Experiment with other Retrievers\n",
    "\n",
    "Now we can test how changing our Retriever impacts our RAG evaluation!\n",
    "We’ll build this simple qa_chain factory to create standardized qa_chains where the only different component will be the retriever."
   ]
  },
  {
   "cell_type": "code",
   "execution_count": 37,
   "id": "40364b7f",
   "metadata": {},
   "outputs": [],
   "source": [
    "def create_qa_chain(retriever, llm):\n",
    "    \"\"\"\n",
    "    Creates a question-answering (QA) chain using a language model and a document retriever.\n",
    "\n",
    "    This function initializes a `RetrievalQA` object, designed to perform question-answering tasks using a language model (LLM) \n",
    "    and a document retriever. The `RetrievalQA` object will also return the source documents used to generate the answers.\n",
    "\n",
    "    Args:\n",
    "        retriever: An object responsible for retrieving relevant documents based on the input questions.\n",
    "        llm: A language model used for generating answers. This should be defined before calling this function.\n",
    "\n",
    "    Returns:\n",
    "        RetrievalQA: An object that can be used to perform QA tasks and retrieve source documents.\n",
    "\n",
    "    Example:\n",
    "        retriever = SomeRetriever()  # Initialize your retriever here\n",
    "        llm = SomeLanguageModel()    # Initialize your language model here\n",
    "        qa_chain = create_qa_chain(retriever, llm)\n",
    "        response = qa_chain({\"query\": \"What is the capital of France?\"})\n",
    "        print(response)\n",
    "    \"\"\"\n",
    "    # Commented out line indicates a specific LLM initialization, which might have been done previously but is omitted here.\n",
    "    # primary_qa_llm = ChatOpenAI(model_name=\"gpt-3.5-turbo-16k\", temperature=0)\n",
    "\n",
    "    # Creates a `RetrievalQA` object using the `from_chain_type` method.\n",
    "    # The `llm` parameter should be a variable or argument representing the language model.\n",
    "    # The `retriever` parameter is an object that handles retrieving relevant documents for the questions.\n",
    "    # `return_source_documents=True` means the `RetrievalQA` object will return the source documents used for answering questions.\n",
    "    created_qa_chain = RetrievalQA.from_chain_type(\n",
    "        llm,\n",
    "        retriever=retriever,\n",
    "        return_source_documents=True\n",
    "    )\n",
    "\n",
    "    # Returns the created `RetrievalQA` object. This object can be used for QA tasks and inspecting the source documents\n",
    "    # for the provided answers.\n",
    "    return created_qa_chain\n"
   ]
  },
  {
   "cell_type": "markdown",
   "id": "d876aa12",
   "metadata": {},
   "source": [
    "### Load PDF"
   ]
  },
  {
   "cell_type": "code",
   "execution_count": 39,
   "id": "ee359c6d",
   "metadata": {},
   "outputs": [
    {
     "name": "stdout",
     "output_type": "stream",
     "text": [
      "The document has 204 pages\n"
     ]
    }
   ],
   "source": [
    "loader = PyPDFLoader('chevrolet-spark.pdf')\n",
    "\n",
    "# load pdf pages\n",
    "pages = loader.load()\n",
    "print(f\"The document has {len(pages)} pages\")\n",
    "\n",
    "# RecursiveCharacterTextSplitter with overlap\n",
    "text_splitter = RecursiveCharacterTextSplitter(\n",
    "    chunk_size = 2000,  # chunk size in characters\n",
    "    chunk_overlap = 150 # Caracteres de solapamiento entre segmentos consecutivos.\n",
    ")"
   ]
  },
  {
   "cell_type": "markdown",
   "id": "782fb62b",
   "metadata": {},
   "source": [
    "## Parent Document Retriever\n",
    "One of the easier ways we can imagine improving a retriever is to embed our documents into small chunks, and then retrieve a significant amount of additional context that “surrounds” the found context.\n",
    "\n",
    "The basic outline of this retrieval method is as follows:\n",
    "\n",
    "1. Obtain User Question\n",
    "2. Retrieve child documents using Dense Vector Retrieval\n",
    "3. Merge the child documents based on their parents. If they have the same parents – they become merged.\n",
    "4. Replace the child documents with their respective parent documents from an in-memory-store.\n",
    "5. Use the parent documents to augment generation."
   ]
  },
  {
   "cell_type": "markdown",
   "id": "1588e14a",
   "metadata": {},
   "source": [
    "### Embedding and Vectorstore"
   ]
  },
  {
   "cell_type": "code",
   "execution_count": 40,
   "id": "b2f117fd",
   "metadata": {},
   "outputs": [],
   "source": [
    "from langchain.retrievers import ParentDocumentRetriever\n",
    "from langchain.storage import InMemoryStore\n",
    "\n",
    "# Creates a `RecursiveCharacterTextSplitter` object to split text into more manageable segments of 2000 characters.\n",
    "# This class is useful for processing large amounts of text that need to be divided into smaller parts for analysis or storage.\n",
    "parent_splitter = RecursiveCharacterTextSplitter(chunk_size=2000)\n",
    "\n",
    "# Creates another `RecursiveCharacterTextSplitter` object, this time with a smaller segment size of 400 characters.\n",
    "# This can be used for more granular subdivision of the text, possibly for tasks that require higher precision in text processing.\n",
    "child_splitter = RecursiveCharacterTextSplitter(chunk_size=400)\n",
    "\n",
    "vectorstore = Chroma(collection_name='split_parents', \n",
    "                     embedding_function=OpenAIEmbeddings())\n",
    "store = InMemoryStore()"
   ]
  },
  {
   "cell_type": "code",
   "execution_count": 41,
   "id": "6d74f8df",
   "metadata": {},
   "outputs": [
    {
     "name": "stdout",
     "output_type": "stream",
     "text": [
      "1321\n"
     ]
    }
   ],
   "source": [
    "# Creates an instance of `ParentDocumentRetriever`. This class is used to retrieve documents that are \"parents\" of a given document.\n",
    "# `vectorstore` is the vector store where the document embeddings are stored.\n",
    "# `child_splitter` is the object used to split child documents into smaller fragments.\n",
    "# `parent_splitter` is the object used to split parent documents into larger fragments.\n",
    "parent_document_retriever = ParentDocumentRetriever(\n",
    "    vectorstore=vectorstore,\n",
    "    docstore=store,\n",
    "    child_splitter=child_splitter,\n",
    "    parent_splitter=parent_splitter,\n",
    ")\n",
    "\n",
    "# Adds documents to the `ParentDocumentRetriever` so they can be processed and used in retrieval operations.\n",
    "# `pages` is a list or set of documents that will serve as the basis for future retrieval and analysis operations.\n",
    "parent_document_retriever.add_documents(pages)  # `base_docs=pages` indicates the base documents that will be added.\n",
    "\n",
    "# Prints the number of documents currently stored in the collection within `vectorstore`.\n",
    "# This is useful for verifying that the documents have been added correctly and for understanding the scale of the data store.\n",
    "print(vectorstore._collection.count())\n"
   ]
  },
  {
   "cell_type": "markdown",
   "id": "4807ea90",
   "metadata": {},
   "source": [
    "### Let's try the new QA Chain"
   ]
  },
  {
   "cell_type": "code",
   "execution_count": 42,
   "id": "92752766",
   "metadata": {},
   "outputs": [],
   "source": [
    "parent_document_retriever_qa_chain = create_qa_chain(parent_document_retriever, llm)"
   ]
  },
  {
   "cell_type": "code",
   "execution_count": 43,
   "id": "6d89bbe0",
   "metadata": {},
   "outputs": [
    {
     "name": "stdout",
     "output_type": "stream",
     "text": [
      "According to the provided context, the vehicle uses fuel with an Octane rating of 87 or higher.\n"
     ]
    }
   ],
   "source": [
    "# Utiliza la cadena de consultas de preguntas y respuestas (QA Chain) para hacer una consulta específica sobre el tipo de gasolina adecuado para un vehículo.\n",
    "# El método se llama con un diccionario que contiene una clave 'query' y el valor de la pregunta que deseas realizar.\n",
    "# 'Que tipo de gasolina es apta para nuestro vehiculo' es la pregunta formulada.\n",
    "# La respuesta a la consulta se obtiene accediendo a la clave 'result' del diccionario devuelto por el método.\n",
    "result = parent_document_retriever_qa_chain({'query' : 'What kind of gas does the vehicule use?'})['result']\n",
    "\n",
    "# Imprime el resultado obtenido.\n",
    "print(result)"
   ]
  },
  {
   "cell_type": "markdown",
   "id": "99b58ee7",
   "metadata": {},
   "source": [
    "## Evaluate the parent document retriever\n",
    "**Beware!!**   \n",
    "This is an expensive operation because it uses the llm for responding all the questions in the dataset."
   ]
  },
  {
   "cell_type": "code",
   "execution_count": 44,
   "id": "a114a029",
   "metadata": {},
   "outputs": [
    {
     "name": "stderr",
     "output_type": "stream",
     "text": [
      "100%|█████████████████████████████████████████████████████████████████████████████████████████| 20/20 [05:32<00:00, 16.60s/it]\n"
     ]
    }
   ],
   "source": [
    "# Evaluate the dataset using the parent document retriever\n",
    "pdr_qa_ragas_dataset = create_responses_dataset(parent_document_retriever_qa_chain, eval_dataset)\n"
   ]
  },
  {
   "cell_type": "markdown",
   "id": "d9030705",
   "metadata": {},
   "source": [
    "### Save responses dataset to CSV"
   ]
  },
  {
   "cell_type": "code",
   "execution_count": 45,
   "id": "a30dbc89",
   "metadata": {},
   "outputs": [
    {
     "name": "stderr",
     "output_type": "stream",
     "text": [
      "Creating CSV from Arrow format: 100%|██████████████████████████████████████████████████████████| 1/1 [00:00<00:00, 182.15ba/s]\n"
     ]
    },
    {
     "data": {
      "text/plain": [
       "84093"
      ]
     },
     "execution_count": 45,
     "metadata": {},
     "output_type": "execute_result"
    }
   ],
   "source": [
    "output_dir = f\"{output_dirname}/{llm_name}\"\n",
    "os.makedirs(output_dir, exist_ok=True)\n",
    "\n",
    "pdr_qa_ragas_dataset.to_csv(os.path.join(output_dir, 'pdr_qa_ragas_dataset_spark.csv'))"
   ]
  },
  {
   "cell_type": "markdown",
   "id": "4c7bc907",
   "metadata": {},
   "source": [
    "## Evaluate responses with Ragas\n",
    "**Beware!!**   \n",
    "This is an expensive operation because it uses the llm_for_ragas for comparing the responses with the groundtruth"
   ]
  },
  {
   "cell_type": "code",
   "execution_count": 46,
   "id": "591c042d",
   "metadata": {},
   "outputs": [
    {
     "name": "stderr",
     "output_type": "stream",
     "text": [
      "Evaluating: 100%|███████████████████████████████████████████████████████████████████████████| 140/140 [01:08<00:00,  2.05it/s]\n"
     ]
    }
   ],
   "source": [
    "pdr_qa_result = evaluate_responses_dataset(pdr_qa_ragas_dataset, embedding_model, llm_for_ragas)"
   ]
  },
  {
   "cell_type": "code",
   "execution_count": 47,
   "id": "99f9562a",
   "metadata": {},
   "outputs": [
    {
     "data": {
      "text/plain": [
       "{'context_precision': 0.8042, 'faithfulness': 0.9615, 'answer_relevancy': 0.8033, 'context_recall': 0.8037, 'context_relevancy': 0.0593, 'answer_correctness': 0.5375, 'answer_similarity': 0.7648}"
      ]
     },
     "execution_count": 47,
     "metadata": {},
     "output_type": "execute_result"
    }
   ],
   "source": [
    "pdr_qa_result"
   ]
  },
  {
   "cell_type": "code",
   "execution_count": 48,
   "id": "dafa421d",
   "metadata": {},
   "outputs": [
    {
     "name": "stdout",
     "output_type": "stream",
     "text": [
      "{'Context Precision': 0.8041666666060416, 'Faithfulness': 0.9615277777777779, 'Answer Relevancy': 0.8033075023049678, 'Context Recall': 0.8037393162393162, 'Context Relevancy': 0.059301555476997656, 'Answer Correctness': 0.5374682278020131, 'Answer Similarity': 0.7648068689115328, 'Model': 'llama-7b-chat', 'Method': 'PDR'}\n"
     ]
    }
   ],
   "source": [
    "pdr_qa_result2 = pdr_qa_result.copy()\n",
    "pdr_qa_result2['model'] = llm_name\n",
    "pdr_qa_result2['method'] = \"PDR\"\n",
    "\n",
    "# Creating a new dictionary with updated keys\n",
    "pdr_qa_result3 = {key_mapping[key]: value for key, value in pdr_qa_result2.items()}\n",
    "\n",
    "print(pdr_qa_result3)"
   ]
  },
  {
   "cell_type": "markdown",
   "id": "b713eaf6",
   "metadata": {},
   "source": [
    "### Save metrics"
   ]
  },
  {
   "cell_type": "code",
   "execution_count": 51,
   "id": "2ac01478",
   "metadata": {},
   "outputs": [],
   "source": [
    "output_dir = f\"{output_dirname}\"\n",
    "os.makedirs(output_dir, exist_ok=True)\n",
    "\n",
    "append_dict_to_file(os.path.join(output_dir, f\"results_{mode}.json\"), pdr_qa_result3)"
   ]
  },
  {
   "cell_type": "markdown",
   "id": "7a4a68ab",
   "metadata": {},
   "source": [
    "## Ensemble Retrievel\n",
    "Next, let’s look at ensemble retrieval.\n",
    "\n",
    "The basic idea is as follows:\n",
    "\n",
    "1. Obtain User Question\n",
    "2. Hit the Retriever Pair  \n",
    "    -Retrieve Documents with BM25 Sparse Vector Retrieval  \n",
    "    -Retrieve Documents with Dense Vector Retrieval Method\n",
    "3. Collect and “fuse” the retrieved docs based on their weighting using the Reciprocal Rank Fusion algorithm into a single ranked list.\n",
    "4. Use those documents to augment our generation."
   ]
  },
  {
   "cell_type": "code",
   "execution_count": 52,
   "id": "f8ab870d",
   "metadata": {},
   "outputs": [],
   "source": [
    "from langchain.retrievers import BM25Retriever, EnsembleRetriever\n",
    "\n",
    "text_splitter = RecursiveCharacterTextSplitter()\n",
    "docs = text_splitter.split_documents(pages)\n",
    "\n",
    "# Create a BM25Retriever object from the split documents.\n",
    "bm25_retriever = BM25Retriever.from_documents(docs)\n",
    "# Set the number of documents toretrieve per query to 2.\n",
    "bm25_retriever.k = 2\n",
    "\n",
    "# Create a vectorstore from the documents using OpenAIEmbeddings.\n",
    "vectorstore = Chroma.from_documents(docs, embedding_model)\n",
    "# Convert the vectorstore into a document retriever, specifying that it should retrieve the 2 most relevant documents per query.\n",
    "chroma_retriever = vectorstore.as_retriever(search_kwargs={'k': 2})\n",
    "\n",
    "# Create an EnsembleRetriever that combines the results of BM25Retriever and ChromaRetriever.\n",
    "# Equal weights (0.5 each) are assigned to balance the influence of both retrievers in the final results.\n",
    "ensemble_retriever = EnsembleRetriever(retrievers=[bm25_retriever, chroma_retriever], weights=[0.5, 0.5])\n"
   ]
  },
  {
   "cell_type": "code",
   "execution_count": 53,
   "id": "6554c106",
   "metadata": {},
   "outputs": [],
   "source": [
    "# Create qa_chain\n",
    "ensemble_retriever_qa_chain = create_qa_chain(ensemble_retriever, llm)"
   ]
  },
  {
   "cell_type": "markdown",
   "id": "894b8b37",
   "metadata": {},
   "source": [
    "### Try the ensemble retriever with a question"
   ]
  },
  {
   "cell_type": "code",
   "execution_count": 54,
   "id": "620a56cf",
   "metadata": {},
   "outputs": [
    {
     "data": {
      "text/plain": [
       "'According to the Technical Information section of the warranty and service booklet, the motor specifications for your Chevrolet Spark are as follows:\\n\\n* Type: 4-cylinder/in-line\\n* Displacement (cc): 995\\n* Bore x stroke (mm): 68.5 x 67.5\\n* Compression ratio: 9.3 ± 0.3 : 1\\n* Max. Power (kW/rpm): 45.0/5400\\n* Max. Tor'"
      ]
     },
     "execution_count": 54,
     "metadata": {},
     "output_type": "execute_result"
    }
   ],
   "source": [
    "ensemble_retriever_qa_chain({'query' : 'Tell me about the motor'})['result']"
   ]
  },
  {
   "cell_type": "markdown",
   "id": "b5e28b02",
   "metadata": {},
   "source": [
    "### Get responses dataset\n",
    "**Beware!!**   \n",
    "This is an expensive operation because it uses the llm for responding all the questions in the dataset."
   ]
  },
  {
   "cell_type": "code",
   "execution_count": 55,
   "id": "e3f15d5b",
   "metadata": {},
   "outputs": [
    {
     "name": "stderr",
     "output_type": "stream",
     "text": [
      "100%|█████████████████████████████████████████████████████████████████████████████████████████| 20/20 [05:11<00:00, 15.56s/it]\n"
     ]
    }
   ],
   "source": [
    "ensemble_qa_ragas_dataset = create_responses_dataset(ensemble_retriever_qa_chain, eval_dataset)"
   ]
  },
  {
   "cell_type": "markdown",
   "id": "b6336d4f",
   "metadata": {},
   "source": [
    "### Save results dataset to CSV"
   ]
  },
  {
   "cell_type": "code",
   "execution_count": 56,
   "id": "f427f742",
   "metadata": {},
   "outputs": [
    {
     "name": "stderr",
     "output_type": "stream",
     "text": [
      "Creating CSV from Arrow format: 100%|██████████████████████████████████████████████████████████| 1/1 [00:00<00:00, 193.67ba/s]\n"
     ]
    },
    {
     "data": {
      "text/plain": [
       "111418"
      ]
     },
     "execution_count": 56,
     "metadata": {},
     "output_type": "execute_result"
    }
   ],
   "source": [
    "output_dir = f\"{output_dirname}/{llm_name}\"\n",
    "os.makedirs(output_dir, exist_ok=True)\n",
    "\n",
    "ensemble_qa_ragas_dataset.to_csv(os.path.join(output_dir, 'ensemble_qa_ragas_dataset_spark.csv'))"
   ]
  },
  {
   "cell_type": "markdown",
   "id": "4fc3dc4a",
   "metadata": {},
   "source": [
    "## Evaluate responses with Ragas\n",
    "**Beware!!**   \n",
    "This is an expensive operation because it uses the llm_for_ragas for comparing the responses with the groundtruth"
   ]
  },
  {
   "cell_type": "code",
   "execution_count": 57,
   "id": "928a6a98",
   "metadata": {},
   "outputs": [
    {
     "name": "stderr",
     "output_type": "stream",
     "text": [
      "Evaluating: 100%|███████████████████████████████████████████████████████████████████████████| 140/140 [01:02<00:00,  2.25it/s]\n"
     ]
    }
   ],
   "source": [
    "ensemble_qa_result = evaluate_responses_dataset(ensemble_qa_ragas_dataset, embedding_model, llm_for_ragas)"
   ]
  },
  {
   "cell_type": "code",
   "execution_count": 58,
   "id": "093d541b",
   "metadata": {},
   "outputs": [
    {
     "data": {
      "text/plain": [
       "{'context_precision': 0.5125, 'faithfulness': 0.9165, 'answer_relevancy': 0.7118, 'context_recall': 0.7372, 'context_relevancy': 0.0364, 'answer_correctness': 0.4457, 'answer_similarity': 0.7319}"
      ]
     },
     "execution_count": 58,
     "metadata": {},
     "output_type": "execute_result"
    }
   ],
   "source": [
    "ensemble_qa_result"
   ]
  },
  {
   "cell_type": "code",
   "execution_count": 59,
   "id": "ac7f541c",
   "metadata": {},
   "outputs": [
    {
     "name": "stdout",
     "output_type": "stream",
     "text": [
      "{'Context Precision': 0.5124999999625001, 'Faithfulness': 0.9164682539682539, 'Answer Relevancy': 0.7117681594522285, 'Context Recall': 0.7372093023255814, 'Context Relevancy': 0.036420428984564886, 'Answer Correctness': 0.445655658939216, 'Answer Similarity': 0.7318533427732293, 'Model': 'llama-7b-chat', 'Method': 'Ensemble'}\n"
     ]
    }
   ],
   "source": [
    "ensemble_qa_result2 = ensemble_qa_result.copy()\n",
    "ensemble_qa_result2['model'] = llm_name\n",
    "ensemble_qa_result2['method'] = \"Ensemble\"\n",
    "\n",
    "# Updated the keys' names\n",
    "ensemble_qa_result3 = {key_mapping[key]: value for key, value in ensemble_qa_result2.items()}\n",
    "\n",
    "print(ensemble_qa_result3)"
   ]
  },
  {
   "cell_type": "markdown",
   "id": "3f1d2524",
   "metadata": {},
   "source": [
    "### Save metrics"
   ]
  },
  {
   "cell_type": "code",
   "execution_count": 60,
   "id": "46424ede",
   "metadata": {},
   "outputs": [],
   "source": [
    "output_dir = f\"{output_dirname}\"\n",
    "os.makedirs(output_dir, exist_ok=True)\n",
    "\n",
    "append_dict_to_file(os.path.join(output_dir, f\"results_{mode}.json\"), ensemble_qa_result2)"
   ]
  },
  {
   "cell_type": "markdown",
   "id": "4cd81012",
   "metadata": {},
   "source": [
    "# Summary"
   ]
  },
  {
   "cell_type": "code",
   "execution_count": 61,
   "id": "a92872da",
   "metadata": {},
   "outputs": [
    {
     "data": {
      "text/plain": [
       "{'context_precision': 0.8083, 'faithfulness': 0.9250, 'answer_relevancy': 0.7686, 'context_recall': 0.8305, 'context_relevancy': 0.0500, 'answer_correctness': 0.4917, 'answer_similarity': 0.7356}"
      ]
     },
     "execution_count": 61,
     "metadata": {},
     "output_type": "execute_result"
    }
   ],
   "source": [
    "basic_qa_result"
   ]
  },
  {
   "cell_type": "code",
   "execution_count": 62,
   "id": "a8cb390b",
   "metadata": {},
   "outputs": [
    {
     "data": {
      "text/plain": [
       "{'context_precision': 0.8042, 'faithfulness': 0.9615, 'answer_relevancy': 0.8033, 'context_recall': 0.8037, 'context_relevancy': 0.0593, 'answer_correctness': 0.5375, 'answer_similarity': 0.7648}"
      ]
     },
     "execution_count": 62,
     "metadata": {},
     "output_type": "execute_result"
    }
   ],
   "source": [
    "pdr_qa_result"
   ]
  },
  {
   "cell_type": "code",
   "execution_count": 63,
   "id": "af314633",
   "metadata": {},
   "outputs": [
    {
     "data": {
      "text/plain": [
       "{'context_precision': 0.5125, 'faithfulness': 0.9165, 'answer_relevancy': 0.7118, 'context_recall': 0.7372, 'context_relevancy': 0.0364, 'answer_correctness': 0.4457, 'answer_similarity': 0.7319}"
      ]
     },
     "execution_count": 63,
     "metadata": {},
     "output_type": "execute_result"
    }
   ],
   "source": [
    "ensemble_qa_result"
   ]
  },
  {
   "cell_type": "code",
   "execution_count": 64,
   "id": "f8c3bb90",
   "metadata": {},
   "outputs": [],
   "source": [
    "def plot_comparison_metrics(basic, pdr, ensemble, title='Comparison of QA Metrics',\n",
    "                            filename=\"qa_metrics.png\"):\n",
    "    \"\"\"\n",
    "    Plots a comparison bar chart for three sets of QA metrics.\n",
    "\n",
    "    Args:\n",
    "    basic (dict): A dictionary with metric names and values for the basic QA result.\n",
    "    pdr (dict): A dictionary with metric names and values for the pdr QA result.\n",
    "    ensemble (dict): A dictionary with metric names and values for the ensemble QA result.\n",
    "    title (str): The title of the plot.\n",
    "    \"\"\"\n",
    "    metrics = list(basic.keys())\n",
    "    basic_values = list(basic.values())\n",
    "    pdr_values = list(pdr.values())\n",
    "    ensemble_values = list(ensemble.values())\n",
    "\n",
    "    bar_width = 0.2\n",
    "    index = np.arange(len(metrics))\n",
    "\n",
    "    plt.figure(figsize=(12, 8))\n",
    "    plt.grid(zorder=0)\n",
    "    \n",
    "    bars_basic = plt.barh(index - bar_width, basic_values, bar_width, label='Basic', color='blue', zorder=3)\n",
    "    bars_pdr = plt.barh(index, pdr_values, bar_width, label='PDR', color='green', zorder=3)\n",
    "    bars_ensemble = plt.barh(index + bar_width, ensemble_values, bar_width, label='Ensemble', color='red', zorder=3)\n",
    "\n",
    "    # Adding the values on top of the bars\n",
    "    for bars in [bars_basic, bars_pdr, bars_ensemble]:\n",
    "        for bar in bars:\n",
    "            width = bar.get_width()\n",
    "            plt.text(width + 0.01,  # x-position\n",
    "                     bar.get_y() + bar.get_height() / 2,  # y-position\n",
    "                     f'{width:.4f}',  # value\n",
    "                     va='center',\n",
    "                     zorder=4)\n",
    "\n",
    "    plt.xlabel('Score')\n",
    "    plt.title(title)\n",
    "    plt.yticks(index, metrics)\n",
    "    plt.xlim(0, 1.1)  # Setting the x-axis limit to be from 0 to 1\n",
    "    plt.legend(loc='upper left', bbox_to_anchor=(1, 1))\n",
    "    \n",
    "    #plt.show()\n",
    "    # Save the figure with high resolution\n",
    "    plt.savefig(filename, dpi=300)\n"
   ]
  },
  {
   "cell_type": "code",
   "execution_count": 66,
   "id": "bfaeeddf",
   "metadata": {},
   "outputs": [
    {
     "name": "stdout",
     "output_type": "stream",
     "text": [
      "Saving plot to /datasets2/Dropbox/Projects/SACI/paper1/results_manual_eval/llama-7b-chat/qa_metrics.png\n"
     ]
    },
    {
     "data": {
      "image/png": "[encoded data removed]",
      "text/plain": [
       "<Figure size 1200x800 with 1 Axes>"
      ]
     },
     "metadata": {},
     "output_type": "display_data"
    }
   ],
   "source": [
    "output_dir = f\"{output_dirname}/{llm_name}\"\n",
    "os.makedirs(output_dir, exist_ok=True)\n",
    "output_path = os.path.join(output_dir, \"qa_metrics.png\")\n",
    "print(f\"Saving plot to {output_path}\")\n",
    "\n",
    "# Plotting the comparison\n",
    "plot_comparison_metrics(basic_qa_result, pdr_qa_result, ensemble_qa_result, filename=output_path)\n"
   ]
  },
  {
   "cell_type": "code",
   "execution_count": null,
   "id": "9ac7eb2e",
   "metadata": {},
   "outputs": [],
   "source": []
  }
 ],
 "metadata": {
  "kernelspec": {
   "display_name": "siac",
   "language": "python",
   "name": "siac"
  },
  "language_info": {
   "codemirror_mode": {
    "name": "ipython",
    "version": 3
   },
   "file_extension": ".py",
   "mimetype": "text/x-python",
   "name": "python",
   "nbconvert_exporter": "python",
   "pygments_lexer": "ipython3",
   "version": "3.11.9"
  }
 },
 "nbformat": 4,
 "nbformat_minor": 5
}
