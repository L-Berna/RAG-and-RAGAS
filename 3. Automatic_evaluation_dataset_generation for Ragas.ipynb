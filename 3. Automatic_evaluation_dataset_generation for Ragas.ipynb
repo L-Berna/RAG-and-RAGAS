{
 "cells": [
  {
   "cell_type": "markdown",
   "id": "b9e012de",
   "metadata": {},
   "source": [
    "# 3. Automatic Evaluation Dataset Generation for Ragas\n",
    "\n",
    "In this notebook, we generate an automatic or synthetic evaluation dataset that we can use to evaluate our RAG pipeline using Ragas. Ragas is a framework that helps you evaluate your Retrieval Augmented Generation (RAG) pipelines.  \n",
    "\n",
    "Authors:\n",
    "- Luis Bernardo Hernandez Salinas\n",
    "- Juan R. Terven"
   ]
  },
  {
   "cell_type": "code",
   "execution_count": 71,
   "id": "f0dab5a2",
   "metadata": {},
   "outputs": [],
   "source": [
    "import os\n",
    "from langchain.document_loaders import PyPDFLoader\n",
    "from langchain.text_splitter import RecursiveCharacterTextSplitter\n",
    "from langchain_openai import ChatOpenAI\n",
    "from langchain.output_parsers import ResponseSchema, StructuredOutputParser\n",
    "from langchain.prompts import ChatPromptTemplate\n",
    "from tqdm import tqdm\n",
    "import pandas as pd\n",
    "from datasets import Dataset"
   ]
  },
  {
   "cell_type": "code",
   "execution_count": 53,
   "id": "f5a63f72",
   "metadata": {},
   "outputs": [
    {
     "name": "stdout",
     "output_type": "stream",
     "text": [
      "Using model gpt-4o\n"
     ]
    }
   ],
   "source": [
    "# Model to use\n",
    "llm_name = \"gpt-4o\"\n",
    "\n",
    "# API key \n",
    "client = os.environ['OPENAI_API_KEY']\n",
    "\n",
    "print(f\"Using model {llm_name}\")"
   ]
  },
  {
   "cell_type": "markdown",
   "id": "b77034e3",
   "metadata": {},
   "source": [
    "## Get the documents splits"
   ]
  },
  {
   "cell_type": "code",
   "execution_count": 10,
   "id": "7b10cdcf",
   "metadata": {},
   "outputs": [
    {
     "name": "stdout",
     "output_type": "stream",
     "text": [
      "The document has 204 pages\n",
      "Generated 243 splits\n"
     ]
    }
   ],
   "source": [
    "loader = PyPDFLoader('chevrolet-spark.pdf')\n",
    "\n",
    "# load pdf pages\n",
    "pages = loader.load()\n",
    "print(f\"The document has {len(pages)} pages\")\n",
    "\n",
    "# RecursiveCharacterTextSplitter with overlap\n",
    "text_splitter = RecursiveCharacterTextSplitter(\n",
    "    chunk_size = 2000,  # chunk size in characters\n",
    "    chunk_overlap = 150 # Caracteres de solapamiento entre segmentos consecutivos.\n",
    ")\n",
    "\n",
    "# split documents\n",
    "splits = text_splitter.split_documents(pages)\n",
    "\n",
    "print(f\"Generated {len(splits)} splits\")"
   ]
  },
  {
   "cell_type": "code",
   "execution_count": 47,
   "id": "5238f437",
   "metadata": {},
   "outputs": [
    {
     "data": {
      "text/plain": [
       "Document(page_content='SEATS AND OCCUPANT PROTECTION SYSTEMS  2–3\\nHOW SAFETY BELTS WORK!\\nSafety belts cannot work unless they are\\nworn and worn properly.\\nVehicle occupants are injured if the forces\\napplied to the body’s structures are greaterthan the body can tolerate without being\\ninjured. If a person’s body is stopped\\nabruptly, the forces applied to the bodywill be high, whereas if the body is slowed\\ndown gradually over some distance, the\\nforces will be much lower. Thus, in orderto protect an occupant from injury in a\\ncrash, the idea is to give the person as\\nmuch time and distance as possible incoming to a stop.\\nImagine a person running at 15 miles per\\nhour (25 km/h) head first into a concrete\\nwall. Imagine a second person running at15 miles per hour (25 km/h) into a wall cov-\\nered by a 3-feet (90 cm) thick deformable\\ncushion. In the first instance the personcould be seriously injured or even killed.\\nIn the second, the runner could expect to\\nwalk away uninjured. Why? In the first in-stance, the body hit the non-yielding con-\\ncrete surface and stopped immediately. All\\nof the energy the sprinter built up was ab-sorbed by the structures of the body, not\\nby the non-yielding concrete surface. Inthe second example, the body had exactly\\nthe same amount of energy that had to be\\nabsorbed as in the first example, but itcontinued to move into the padding, giv-\\ning the body additional time and distance\\nto slow down to a complete stop as thepadding absorbed the sprinter’s energy by\\ndeforming.\\nIf a car crashes into a concrete wall at 30\\nmiles per hour (50 km/h), the front bumperof the car stops immediately, but the pas-\\nsenger compartment stops more gradually\\nas the front structure of the vehiclecrumples. The belted occupant is held to\\nthe seat and gains the advantage of the\\ncushion provided by the crumpling of thefront of the vehicle and the stretching of\\nthe safety belt webbing. That belted\\noccupant’s body slows down from 30 mph(50 km/h) to zero over a distance of 3-4 feet', metadata={'source': 'chevrolet-spark.pdf', 'page': 35})"
      ]
     },
     "execution_count": 47,
     "metadata": {},
     "output_type": "execute_result"
    }
   ],
   "source": [
    "# first split with info\n",
    "first_split = 46\n",
    "# last split with info\n",
    "last_split = 200\n",
    "\n",
    "splits[46]"
   ]
  },
  {
   "cell_type": "markdown",
   "id": "51decc60",
   "metadata": {},
   "source": [
    "## Generating a synthetic question for testing the question generator"
   ]
  },
  {
   "cell_type": "code",
   "execution_count": 22,
   "id": "e91311f6",
   "metadata": {},
   "outputs": [],
   "source": [
    "# ResponseSchema is a class that acts as the architectural blueprint for data elements in a response.\n",
    "# Imagine it as the template for each piece in a complex puzzle of structured output.\n",
    "question_schema = ResponseSchema(\n",
    "    name='question',\n",
    "    description='a question about the context.'\n",
    ")\n",
    "question_response_schemas = [question_schema]\n",
    "\n",
    "# StructuredOutputParser is a class crafted for decoding and processing structured outputs,\n",
    "# like a detective unraveling the mysteries of data (think JSON) returned from a source (often a language model)\n",
    "question_output_parser = StructuredOutputParser.from_response_schemas(question_response_schemas)\n",
    "format_instructions = question_output_parser.get_format_instructions()\n",
    "\n",
    "# Define a template for the question generator\n",
    "qa_templates = \"\"\"\\\n",
    "You are a car expert creating a test for car users. For each context, create a question that is specific to the context.\n",
    "Avoid creating generic or general questions. All the questions must be in english.\n",
    "\n",
    "question: a question about the context.\n",
    "\n",
    "Format the output as JSON with the following keys:\n",
    "question\n",
    "\n",
    "context: {context}\n",
    "\"\"\"\n",
    "prompt_template = ChatPromptTemplate.from_template(template=qa_templates)\n",
    "\n",
    "# Generate a question from the provided context\n",
    "messages = prompt_template.format_messages(\n",
    "    context=splits[50],\n",
    "    format_instructions=format_instructions\n",
    ")\n",
    "response = llm(messages) # Utiliza el modelo de lenguaje para generar respuestas.\n",
    "output_dict = question_output_parser.parse(response.content) # Procesa y extrae información estructurada de la respuesta."
   ]
  },
  {
   "cell_type": "code",
   "execution_count": 24,
   "id": "7ed1615c",
   "metadata": {},
   "outputs": [
    {
     "name": "stdout",
     "output_type": "stream",
     "text": [
      "question\n",
      "\n",
      "What are the potential risks associated with having unbelted occupants in a vehicle during a crash, as described in the SEATS AND OCCUPANT PROTECTION SYSTEMS section?\n"
     ]
    }
   ],
   "source": [
    "\n",
    "for k, v in output_dict.items():\n",
    "    print(k)  # Imprime la clave del par actual.\n",
    "    print(\"\")\n",
    "    print(v)  # Imprime el valor asociado a la clave actual."
   ]
  },
  {
   "cell_type": "markdown",
   "id": "b8cbc5bb",
   "metadata": {},
   "source": [
    "## Generate 20 synthetic questions"
   ]
  },
  {
   "cell_type": "code",
   "execution_count": 49,
   "id": "5ab34d42",
   "metadata": {},
   "outputs": [
    {
     "name": "stderr",
     "output_type": "stream",
     "text": [
      "100%|██████████████████████████████████████████████████████████████████████████████████████████████████████████████████████████████████████████████████████████████████████████████| 20/20 [00:44<00:00,  2.21s/it]\n"
     ]
    }
   ],
   "source": [
    "# Inicialización de la lista para almacenar los triples de pregunta, respuesta y contexto.\n",
    "qac_triples = []\n",
    "\n",
    "# Procesamiento de los primeros 20 segmentos de texto con una barra de progreso visible.\n",
    "for text in tqdm(random.sample(splits[first_split:last_split], 20)):\n",
    "    # Formateo de mensajes basados en el contexto para enviar al modelo de lenguaje.\n",
    "    messages = prompt_template.format_messages(\n",
    "        context=text,\n",
    "        format_instructions=format_instructions\n",
    "    )\n",
    "    \n",
    "    # Generación de respuesta mediante el modelo de lenguaje.\n",
    "    response = llm(messages)\n",
    "    \n",
    "    try:\n",
    "        # Intento de parsear la respuesta para extraer datos estructurados.\n",
    "        output_dict = question_output_parser.parse(response.content)\n",
    "    except Exception as e:\n",
    "        # Continuar con el siguiente segmento de texto si hay un error en el parseo.\n",
    "        continue\n",
    "    \n",
    "    # Añadir el texto original como contexto en el diccionario de salida.\n",
    "    output_dict['context'] = text\n",
    "    # Añadir el diccionario actualizado a la lista de triples.\n",
    "    qac_triples.append(output_dict)"
   ]
  },
  {
   "cell_type": "code",
   "execution_count": 52,
   "id": "d6392b62",
   "metadata": {},
   "outputs": [
    {
     "data": {
      "text/plain": [
       "{'question': 'According to the Chevrolet Spark manual, how often should you check your tire pressure, and what tool should you use for this check?',\n",
       " 'context': Document(page_content='SERVICE AND VEHICLE CARE  7–25\\nSee “VEHICLE SPECIFICATIONS” on\\npage 9-6 for proper tire inflation pressure.\\nTire condition should be inspected before\\ndriving and tire pressure should be\\nchecked each time you fill your fuel tankor at least once a month using a tire pres-sure gauge.\\nIncorrect tire inflation pressures will:\\n• Increase tire wear.\\n• Impair vehicle handling and safe opera-\\ntion.\\n• Affect ride comfort.\\n• Reduce fuel economy.\\nIf tire pressure is too low, tires can over-\\nheat and suffer internal damage, treadseparation, and even a blowout at high\\nspeeds. Even if you later adjust the infla-\\ntion pressure of your tires, previous driv-ing with low pressure may have damagedthe tires.Caring for your tires and wheels\\nDriving over sharp objects can damage the\\ntires and wheels. If some objects are un-avoidable, drive over them slowly and ata right angle, if possible.\\nWhen parking, avoid making contact with\\nthe curb.\\nPeriodic tire inspection\\n• Visual damage.• Foreign objects\\n• Punctures.\\n• Cuts.\\n• Cracks.\\n• Bulges in the sidewalls.\\nCheck the wheels for damage.\\nTire defects including those above can\\ncause loss of control of your vehicle, re-\\nsulting in a possible collision.\\nIf your tires or wheels are damaged or\\nshow abnormal wear, consult yourCHEVROLET retailer.BUILT-IN TREAD WEAR INDICATOR\\nRegularly check the tread depth of yourtires using the tire’s built-in tread wear in-\\ndicators. Markings on the sidewalls indi-\\ncate the locations of the tread wear indi-cators. CAUTION\\nUse of tires of a size other than origi-\\nnally fitted to your vehicle may causeinterference between tires and vehiclecomponents, and may result in tire and\\nvehicle damage.\\n CAUTION\\n• Do not drive on worn or damaged tires.\\nSuch tires can cause you to lose con-\\ntrol of the vehicle and a collision, re-sulting in injuries or damage to yourvehicle or other property.', metadata={'source': 'chevrolet-spark.pdf', 'page': 141})}"
      ]
     },
     "execution_count": 52,
     "metadata": {},
     "output_type": "execute_result"
    }
   ],
   "source": [
    "qac_triples[1]"
   ]
  },
  {
   "cell_type": "markdown",
   "id": "321c3732",
   "metadata": {},
   "source": [
    "## Insert the answer to each question "
   ]
  },
  {
   "cell_type": "code",
   "execution_count": 60,
   "id": "f2957bd3",
   "metadata": {},
   "outputs": [],
   "source": [
    "answer_generation_llm = ChatOpenAI(model=llm_name, temperature=0)\n",
    "answer_schema = ResponseSchema(\n",
    "    name=\"answer\",\n",
    "    description=\"an answer to the question\"\n",
    ")\n",
    "answer_response_schemas = [\n",
    "    answer_schema,\n",
    "]\n",
    "\n",
    "answer_output_parser = StructuredOutputParser.from_response_schemas(answer_response_schemas)\n",
    "format_instructions = answer_output_parser.get_format_instructions()\n",
    "\n",
    "qa_template = \"\"\"\\\n",
    "You are a car expert creating a test for car users. For each question and context, create an answer.\n",
    "answer: an answer about the context.\n",
    "Format the output as JSON with the following keys:\n",
    "answer\n",
    "question: {question}\n",
    "context: {context}\n",
    "\"\"\"\n",
    "prompt_template = ChatPromptTemplate.from_template(template=qa_template)\n",
    "answer_generation_chain = answer_generation_llm"
   ]
  },
  {
   "cell_type": "markdown",
   "id": "fcef1d2b",
   "metadata": {},
   "source": [
    "### Let's first try with a single one and check the results"
   ]
  },
  {
   "cell_type": "code",
   "execution_count": 61,
   "id": "484229fb",
   "metadata": {},
   "outputs": [],
   "source": [
    "messages = prompt_template.format_messages(\n",
    "    context=qac_triples[0][\"context\"],\n",
    "    question=qac_triples[0][\"question\"],\n",
    "    format_instructions=format_instructions\n",
    ")\n",
    "response = answer_generation_chain.invoke(messages)\n",
    "output_dict = answer_output_parser.parse(response.content)"
   ]
  },
  {
   "cell_type": "code",
   "execution_count": 62,
   "id": "016aa947",
   "metadata": {},
   "outputs": [
    {
     "name": "stdout",
     "output_type": "stream",
     "text": [
      "answer\n",
      "-----\n",
      "Before using the air conditioning system, open the windows for a few minutes to permit hot air to escape if the vehicle has been parked in direct sunlight.\n",
      "question\n",
      "-----\n",
      "What should you do before using the air conditioning system if your vehicle has been parked in direct sunlight?\n",
      "context\n",
      "-----\n",
      "page_content='4–10  HEATING & AIR CONDITIONING\n",
      "OPERATING TIPS\n",
      "• Before using the air conditioning sys-\n",
      "tem, open the windows for a few min-\n",
      "utes to permit hot air to escape if the\n",
      "vehicle has been parked in direct sun-light.\n",
      "• For maximum cooling, select the venti-\n",
      "lation mode and the highest fan speed.\n",
      "Make sure that the air conditioningcompressor is turned on. Then rotatethe temperature control knob to selectthe coolest temperature and select therecirculation mode.\n",
      "• To defog the windows on rainy days\n",
      "or in high humidity, turn on the airconditioning compressor.\n",
      "• Turn on the air conditioning for a few\n",
      "minutes at least once a week, even inthe winter or when the air conditioningsystem is not being used regularly. Thismaintains proper lubrication of the\n",
      "compressor and seals, prolonging the\n",
      "service life of the system.\n",
      "• Driving in stop-and-go traffic may\n",
      "reduce the effectiveness of the air\n",
      "conditioning system.• To quickly defog or defrost the front\n",
      "windshield, use the defrosting mode,\n",
      "set the temperature to warm, and setthe fan at the highest speed.\n",
      "• Defroster mode will operate with the air\n",
      "conditioner on or off.\n",
      "• Turn the air conditioner on to improve\n",
      "the efficiency of the defroster.\n",
      "• Do not use the heating/defogging mode\n",
      "or the defrosting mode in extremelyhumid weather when the temperaturecontrol is set to cold.AIR OUTLETS\n",
      "To open an outlet, press on its cover.Rotate the cover to direct airflow asdesired.\n",
      "S3W1123A\n",
      "TR04.pmd 2/18/2015, 3:38 PM 10'\n",
      "metadata\n",
      "-----\n",
      "{'source': 'chevrolet-spark.pdf', 'page': 86}\n"
     ]
    }
   ],
   "source": [
    "for k, v in output_dict.items():\n",
    "    print(k)\n",
    "    print(\"-----\")\n",
    "    print(v)"
   ]
  },
  {
   "cell_type": "markdown",
   "id": "c524c3ed",
   "metadata": {},
   "source": [
    "### Now get the answers on all the questions"
   ]
  },
  {
   "cell_type": "code",
   "execution_count": 64,
   "id": "c3a55607",
   "metadata": {},
   "outputs": [
    {
     "name": "stderr",
     "output_type": "stream",
     "text": [
      "100%|██████████████████████████████████████████████████████████████████████████████████████████████████████████████████████████████████████████████████████████████████████████████| 20/20 [02:19<00:00,  7.00s/it]\n"
     ]
    }
   ],
   "source": [
    "for triple in tqdm(qac_triples):\n",
    "    messages = prompt_template.format_messages(\n",
    "        context=triple['context'],\n",
    "        question=triple['question'],\n",
    "        format_instructions=format_instructions\n",
    "    )\n",
    "    response = answer_generation_chain.invoke(messages)\n",
    "    \n",
    "    try:\n",
    "        output_dict = answer_output_parser.parse(response.content)\n",
    "    except Exception as e:\n",
    "        continue\n",
    "    \n",
    "    # Actualización del triple actual con la respuesta generada.\n",
    "    triple['answer'] = output_dict['answer']"
   ]
  },
  {
   "cell_type": "markdown",
   "id": "3cdbea6b",
   "metadata": {},
   "source": [
    "## Combine questions, contexts, and answers for evaluation dataset"
   ]
  },
  {
   "cell_type": "code",
   "execution_count": 67,
   "id": "c6d13b08",
   "metadata": {},
   "outputs": [],
   "source": [
    "# To pandas\n",
    "ground_truth_qac_set = pd.DataFrame(qac_triples)\n",
    "\n",
    "# Make sure context is string\n",
    "ground_truth_qac_set[\"context\"] = ground_truth_qac_set[\"context\"].map(lambda x: str(x.page_content))\n",
    "\n",
    "# rename answer to groundtruth\n",
    "ground_truth_qac_set = ground_truth_qac_set.rename(columns={\"answer\" : \"ground_truth\"})\n",
    "\n",
    "# Convert to Hugging Face Dataset\n",
    "eval_dataset = Dataset.from_pandas(ground_truth_qac_set)"
   ]
  },
  {
   "cell_type": "code",
   "execution_count": 68,
   "id": "74d7d0b8",
   "metadata": {},
   "outputs": [
    {
     "data": {
      "text/plain": [
       "Dataset({\n",
       "    features: ['question', 'context', 'ground_truth'],\n",
       "    num_rows: 20\n",
       "})"
      ]
     },
     "execution_count": 68,
     "metadata": {},
     "output_type": "execute_result"
    }
   ],
   "source": [
    "eval_dataset"
   ]
  },
  {
   "cell_type": "code",
   "execution_count": 69,
   "id": "29204c8b",
   "metadata": {},
   "outputs": [
    {
     "data": {
      "text/plain": [
       "{'question': 'What steps should you follow to use the bi-level ventilation setting on a cool, sunny day?',\n",
       " 'context': 'HEATING & AIR CONDITIONING  4–9\\nNormal heating\\n1. Turn off air conditioning (A/C). (Indi-\\ncator goes off)\\n2. Slide the recirculation lever to outside\\nair mode.\\n3. Turn air distribution knob to FLOOR\\n(     ) or BI-LEVEL (     ).\\n4. Turn temperature control knob to red\\narea for heating.\\n5. Turn fan speed control knob to desired\\nspeed.VENTILATION\\nBi-level\\nUse this setting on cool, but sunny days.\\nWarmer air will flow into the floor area and\\ncool outside air will flow towards yourupper body.\\nTo use this setting:\\n1. Slide the recirculation lever to outside\\nair mode.\\n2. Turn air distribution knob to BI-LEVEL\\n(     ).\\n3. Adjust temperature control knob to the\\ndesired temperature.\\n4. Turn fan speed control knob to the de-\\nsired speed.Ventilation\\nTo direct air through the center and side\\nvents:\\n1. Turn off air conditioning (A/C). (Indi-\\ncator goes off)\\n2. Slide the recirculation lever to outside\\nair mode.\\n3. Turn the air distribution knob to FRONT\\n(     ) or BI-LEVEL (     ).\\n4. Turn temperature control knob to blue\\narea for cooling.\\n5. Turn fan speed control knob to desired\\nspeed.\\nTR04.pmd 2/18/2015, 3:38 PM 9',\n",
       " 'ground_truth': 'To use the bi-level ventilation setting on a cool, sunny day, follow these steps: 1. Slide the recirculation lever to outside air mode. 2. Turn the air distribution knob to BI-LEVEL. 3. Adjust the temperature control knob to the desired temperature. 4. Turn the fan speed control knob to the desired speed.'}"
      ]
     },
     "execution_count": 69,
     "metadata": {},
     "output_type": "execute_result"
    }
   ],
   "source": [
    "eval_dataset[9]"
   ]
  },
  {
   "cell_type": "code",
   "execution_count": 70,
   "id": "e70db560",
   "metadata": {},
   "outputs": [
    {
     "name": "stderr",
     "output_type": "stream",
     "text": [
      "Creating CSV from Arrow format: 100%|███████████████████████████████████████████████████████████████████████████████████████████████████████████████████████████████████████████████| 1/1 [00:00<00:00, 178.15ba/s]\n"
     ]
    },
    {
     "data": {
      "text/plain": [
       "34007"
      ]
     },
     "execution_count": 70,
     "metadata": {},
     "output_type": "execute_result"
    }
   ],
   "source": [
    "eval_dataset.to_csv('ground_truth_qac_set_spark_2.csv')"
   ]
  }
 ],
 "metadata": {
  "kernelspec": {
   "display_name": "saci",
   "language": "python",
   "name": "saci"
  },
  "language_info": {
   "codemirror_mode": {
    "name": "ipython",
    "version": 3
   },
   "file_extension": ".py",
   "mimetype": "text/x-python",
   "name": "python",
   "nbconvert_exporter": "python",
   "pygments_lexer": "ipython3",
   "version": "3.11.5"
  }
 },
 "nbformat": 4,
 "nbformat_minor": 5
}
