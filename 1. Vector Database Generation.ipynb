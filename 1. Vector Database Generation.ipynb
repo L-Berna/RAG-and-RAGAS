{
 "cells": [
  {
   "cell_type": "markdown",
   "id": "b9e012de",
   "metadata": {},
   "source": [
    "# 1. Vector Database Generation\n",
    "This code generates the vector database for a PDF document. For this application, a car manual.\n",
    "This code should be run only once, since the results are save in disk.\n",
    "\n",
    "Authors:\n",
    "- Luis Bernardo Hernandez Salinas\n",
    "- Juan R. Terven"
   ]
  },
  {
   "cell_type": "code",
   "execution_count": 1,
   "id": "bc9ed2ea",
   "metadata": {},
   "outputs": [],
   "source": [
    "import os\n",
    "from langchain.document_loaders import PyPDFLoader\n",
    "from langchain.text_splitter import RecursiveCharacterTextSplitter\n",
    "from langchain_openai import OpenAIEmbeddings\n",
    "from langchain.vectorstores import Chroma"
   ]
  },
  {
   "cell_type": "markdown",
   "id": "c947d552",
   "metadata": {},
   "source": [
    "## Set API key, embedding and vector database path"
   ]
  },
  {
   "cell_type": "code",
   "execution_count": 7,
   "id": "ee5cfd83",
   "metadata": {},
   "outputs": [],
   "source": [
    "client = os.environ['OPENAI_API_KEY']\n",
    "embedding_dimensions = 1536 #1536  # 3072\n",
    "\n",
    "# OpenAI embedding model\n",
    "embedding_model = OpenAIEmbeddings(model=\"text-embedding-3-large\", dimensions=embedding_dimensions)\n",
    "\n",
    "# Vector dataset\n",
    "vectordb_directory = f'vector_database_chspark_{embedding_dimensions}'"
   ]
  },
  {
   "cell_type": "markdown",
   "id": "daee09fa",
   "metadata": {},
   "source": [
    "## Load PDF"
   ]
  },
  {
   "cell_type": "code",
   "execution_count": 8,
   "id": "61bc2679",
   "metadata": {},
   "outputs": [
    {
     "name": "stdout",
     "output_type": "stream",
     "text": [
      "The document has 204 pages\n"
     ]
    }
   ],
   "source": [
    "loader = PyPDFLoader('chevrolet-spark.pdf')\n",
    "\n",
    "# load pdf pagesÇ\n",
    "pages = loader.load()\n",
    "print(f\"The document has {len(pages)} pages\")"
   ]
  },
  {
   "cell_type": "code",
   "execution_count": 9,
   "id": "4a34557b",
   "metadata": {},
   "outputs": [
    {
     "data": {
      "text/plain": [
       "Document(page_content='5–12  DRIVING YOUR VEHICLE\\n WARNING\\nAfter driving thr ough deep water,\\nwashing the vehicle, or using the\\nbrakes excessively when going down\\na steep hill, the brakes can temporarilylose their stopping power. This may bedue to wet brake components or over-\\nheating.\\nIf your brakes temporarily lose their\\nstopping power because of overheating:\\n•Shift to a lower gear when going\\ndown hills. Do not continuously ap-\\nply the brakes.\\nIf your brakes temporarily lose their\\npower because of wet brake compo-\\nnents, the following procedure will help\\nrestore their normal performance:\\n1. Check behind you for other ve-\\nhicles.\\n2. Keep a safe forward speed with\\nplenty of space to your rear and\\nsides.\\n3. Gently apply the brakes until nor-\\nmal performance is restored.PARKING BRAKE\\nThe parking brake acts on the rear wheels.\\nThe parking brake lever is located between\\nthe front seats.\\nTo set the parking brake, stop the vehicle,\\npress the brake pedal and pull the lever up\\nfirmly.\\nTo release the parking brake, press the\\nbrake pedal and;\\n1. Pull the lever up slightly.\\n2. Push the button on the tip of the lever.\\n3. Lower the lever while holding the but-\\nton in. CAUTION\\n•Do not drive with the parking brake\\non.\\nThis can cause your rear brakes to\\noverheat or wear out prematurely. You\\nmay have to replace them, and you\\ncould damage other parts of your ve-hicle. WARNING\\nIf the parking brake is not set prop-\\nerly, the vehicle may move suddenly.See your CHEVROLET retailer if anadjustment is required.\\n CAUTION\\n•Do not park or operate your vehicle\\nover combustible materials.\\nThey could touch hot exhaust parts un-\\nder your vehicle and ignite.\\nS3W1153A', metadata={'source': 'chevrolet-spark.pdf', 'page': 100})"
      ]
     },
     "execution_count": 9,
     "metadata": {},
     "output_type": "execute_result"
    }
   ],
   "source": [
    "# Lets check one page\n",
    "pages[100]"
   ]
  },
  {
   "cell_type": "markdown",
   "id": "bbbda453",
   "metadata": {},
   "source": [
    "## Documents Splitting"
   ]
  },
  {
   "cell_type": "code",
   "execution_count": 10,
   "id": "840ab293",
   "metadata": {},
   "outputs": [
    {
     "name": "stdout",
     "output_type": "stream",
     "text": [
      "Generated 243 splits\n"
     ]
    }
   ],
   "source": [
    "# RecursiveCharacterTextSplitter with overlap\n",
    "text_splitter = RecursiveCharacterTextSplitter(\n",
    "    chunk_size = 2000,  # chunk size in characters\n",
    "    chunk_overlap = 150 # Caracteres de solapamiento entre segmentos consecutivos.\n",
    ")\n",
    "\n",
    "# split documents\n",
    "splits = text_splitter.split_documents(pages)\n",
    "\n",
    "print(f\"Generated {len(splits)} splits\")"
   ]
  },
  {
   "cell_type": "markdown",
   "id": "3e570e49",
   "metadata": {},
   "source": [
    "## Create Vector database"
   ]
  },
  {
   "cell_type": "code",
   "execution_count": 11,
   "id": "f9b18913",
   "metadata": {},
   "outputs": [
    {
     "name": "stdout",
     "output_type": "stream",
     "text": [
      "Saved 243 collections in vector database\n"
     ]
    }
   ],
   "source": [
    "# Create vector database from the embedding of the documents splits \n",
    "vectordb = Chroma.from_documents(\n",
    "    documents=splits,\n",
    "    embedding=embedding_model,\n",
    "    persist_directory=vectordb_directory\n",
    ")\n",
    "\n",
    "print(f\"Saved {vectordb._collection.count()} collections in vector database\")"
   ]
  },
  {
   "cell_type": "code",
   "execution_count": null,
   "id": "03181003",
   "metadata": {},
   "outputs": [],
   "source": []
  }
 ],
 "metadata": {
  "kernelspec": {
   "display_name": "saci",
   "language": "python",
   "name": "saci"
  },
  "language_info": {
   "codemirror_mode": {
    "name": "ipython",
    "version": 3
   },
   "file_extension": ".py",
   "mimetype": "text/x-python",
   "name": "python",
   "nbconvert_exporter": "python",
   "pygments_lexer": "ipython3",
   "version": "3.11.5"
  }
 },
 "nbformat": 4,
 "nbformat_minor": 5
}
